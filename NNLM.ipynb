{
 "cells": [
  {
   "cell_type": "code",
   "execution_count": 6,
   "id": "945e119a-d76f-4304-8cd2-e562fb0837a1",
   "metadata": {},
   "outputs": [],
   "source": [
    "import torch \n",
    "import torch.nn as nn\n",
    "import torch.optim as optim  \n",
    "\n"
   ]
  },
  {
   "cell_type": "code",
   "execution_count": 4,
   "id": "352ab50a-ef43-4a1b-a74c-8cc36f918f14",
   "metadata": {},
   "outputs": [
    {
     "name": "stdout",
     "output_type": "stream",
     "text": [
      "2.6.0+cpu\n"
     ]
    }
   ],
   "source": [
    "print(torch.__version__)"
   ]
  },
  {
   "cell_type": "code",
   "execution_count": null,
   "id": "12e5be34-e38e-4201-a9a0-4f79a7ff06cd",
   "metadata": {},
   "outputs": [],
   "source": [
    "def make_batch():\n",
    "    input_batch=[]\n",
    "    target_batch=[]\n",
    "    for sen in sentences:\n",
    "        word=sen.split()\n",
    "        input=[word_dict[n] for n in word[::-1]]\n",
    "        target=word_dict[word[-1]]\n",
    "        input_batch.append(input)\n",
    "        target_batch.append(target)\n",
    "\n",
    "    return input_batch,target_batch\n",
    "\n",
    "\n",
    "class NNLM(nn.Module):\n",
    "    def __init__(self):\n",
    "        super(NNLM,self).__init__()\n",
    "        self.C=nn.Embedding(n_class,m)\n",
    "        self.H=nn.Linear(n_step*m,n_hidden,bias=False)\n",
    "        self.d=nn.Parameter(torch.ones(n_hidden))\n",
    "        self.U=nn.Linear(n_hidden,n_class,bias=False)\n",
    "        self.W=nn.Linear(n_step*m,n_class,bias=False)\n",
    "        self.b=nn.Parameter(\n",
    "        "
   ]
  }
 ],
 "metadata": {
  "kernelspec": {
   "display_name": "Python 3 (ipykernel)",
   "language": "python",
   "name": "python3"
  },
  "language_info": {
   "codemirror_mode": {
    "name": "ipython",
    "version": 3
   },
   "file_extension": ".py",
   "mimetype": "text/x-python",
   "name": "python",
   "nbconvert_exporter": "python",
   "pygments_lexer": "ipython3",
   "version": "3.12.7"
  }
 },
 "nbformat": 4,
 "nbformat_minor": 5
}
