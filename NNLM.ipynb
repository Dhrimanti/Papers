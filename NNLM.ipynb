{
 "cells": [
  {
   "cell_type": "code",
   "execution_count": 6,
   "id": "945e119a-d76f-4304-8cd2-e562fb0837a1",
   "metadata": {},
   "outputs": [],
   "source": [
    "import torch \n",
    "import torch.nn as nn\n",
    "import torch.optim as optim  \n",
    "\n"
   ]
  },
  {
   "cell_type": "code",
   "execution_count": 4,
   "id": "352ab50a-ef43-4a1b-a74c-8cc36f918f14",
   "metadata": {},
   "outputs": [
    {
     "name": "stdout",
     "output_type": "stream",
     "text": [
      "2.6.0+cpu\n"
     ]
    }
   ],
   "source": [
    "print(torch.__version__)"
   ]
  },
  {
   "cell_type": "code",
   "execution_count": 12,
   "id": "12e5be34-e38e-4201-a9a0-4f79a7ff06cd",
   "metadata": {},
   "outputs": [
    {
     "name": "stdout",
     "output_type": "stream",
     "text": [
      "Epoch: 1000 cost = 0.114707\n",
      "Epoch: 2000 cost = 0.013125\n",
      "Epoch: 3000 cost = 0.004238\n",
      "Epoch: 4000 cost = 0.001832\n",
      "Epoch: 5000 cost = 0.000900\n",
      "[['i', 'like'], ['i', 'love'], ['i', 'hate']] -> ['dogs', 'coffee', 'milk']\n"
     ]
    }
   ],
   "source": [
    "def make_batch():\n",
    "    input_batch=[]\n",
    "    target_batch=[]\n",
    "    for sen in sentences:\n",
    "        word=sen.split()\n",
    "        input=[word_dict[n] for n in word[:-1]]\n",
    "        target=word_dict[word[-1]]\n",
    "        input_batch.append(input)\n",
    "        target_batch.append(target)\n",
    "\n",
    "    return input_batch,target_batch\n",
    "\n",
    "\n",
    "class NNLM(nn.Module):\n",
    "    def __init__(self):\n",
    "        super(NNLM,self).__init__()\n",
    "        self.C=nn.Embedding(n_class,m)\n",
    "        self.H=nn.Linear(n_step*m,n_hidden,bias=False)\n",
    "        self.d=nn.Parameter(torch.ones(n_hidden))\n",
    "        self.U=nn.Linear(n_hidden,n_class,bias=False)\n",
    "        self.W=nn.Linear(n_step*m,n_class,bias=False)\n",
    "        self.b=nn.Parameter(torch.ones(n_class))\n",
    "\n",
    "    def forward(self,X):\n",
    "        X=self.C(X)\n",
    "        X=X.view(-1,n_step*m)\n",
    "        tanh=torch.tanh(self.d+self.H(X))\n",
    "        output=self.b+self.W(X)+self.U(tanh)\n",
    "        return output\n",
    "\n",
    "if __name__=='__main__':\n",
    "    n_step=2\n",
    "    n_hidden=2\n",
    "    m=2\n",
    "    sentences = [\"i like dogs\", \"i love coffee\", \"i hate milk\"]\n",
    "\n",
    "    word_list=\" \".join(sentences).split()\n",
    "    word_list=list(set(word_list))\n",
    "    word_dict = {w: i for i, w in enumerate(word_list)}\n",
    "    number_dict = {i: w for i, w in enumerate(word_list)}\n",
    "    n_class=len(word_dict)\n",
    "    model=NNLM()\n",
    "    criterion=nn.CrossEntropyLoss()\n",
    "    optimizer=optim.Adam(model.parameters(),lr=0.001)\n",
    "    input_batch,target_batch=make_batch()\n",
    "    input_batch=torch.LongTensor(input_batch)\n",
    "    target_batch=torch.LongTensor(target_batch)\n",
    "    for i in range(5000):\n",
    "        optimizer.zero_grad()\n",
    "        output=model(input_batch)\n",
    "        loss=criterion(output,target_batch)\n",
    "        if(i+1)%1000==0:\n",
    "            print('Epoch:', '%04d' % (i + 1), 'cost =', '{:.6f}'.format(loss))\n",
    "        loss.backward()\n",
    "        optimizer.step()\n",
    "\n",
    "    predict=model(input_batch).data.max(1,keepdim=True)[1]\n",
    "    print([sen.split()[:2] for sen in sentences], '->', [number_dict[n.item()] for n in predict.squeeze()])\n",
    "        \n",
    "        "
   ]
  },
  {
   "cell_type": "code",
   "execution_count": null,
   "id": "f23d7728-1cfa-4f63-9f9d-1ac681e0eb3d",
   "metadata": {},
   "outputs": [],
   "source": []
  }
 ],
 "metadata": {
  "kernelspec": {
   "display_name": "Python 3 (ipykernel)",
   "language": "python",
   "name": "python3"
  },
  "language_info": {
   "codemirror_mode": {
    "name": "ipython",
    "version": 3
   },
   "file_extension": ".py",
   "mimetype": "text/x-python",
   "name": "python",
   "nbconvert_exporter": "python",
   "pygments_lexer": "ipython3",
   "version": "3.12.7"
  }
 },
 "nbformat": 4,
 "nbformat_minor": 5
}
