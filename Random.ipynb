{
 "cells": [
  {
   "cell_type": "code",
   "execution_count": 1,
   "id": "e0232d96-9ef9-4fcf-a760-ad41c2f51490",
   "metadata": {},
   "outputs": [],
   "source": [
    "import torch\n",
    "import torch.nn as nn\n"
   ]
  },
  {
   "cell_type": "code",
   "execution_count": 14,
   "id": "5aaaa4fe-ab6d-4a2d-891e-df326bb3d3eb",
   "metadata": {},
   "outputs": [
    {
     "data": {
      "text/plain": [
       "tensor([ 0.8984,  1.9599, -0.6797,  1.1936])"
      ]
     },
     "execution_count": 14,
     "metadata": {},
     "output_type": "execute_result"
    }
   ],
   "source": [
    "torch.randn(4)"
   ]
  },
  {
   "cell_type": "code",
   "execution_count": 38,
   "id": "8324e5ba-d4d7-46d5-9827-52df5fbcf61e",
   "metadata": {},
   "outputs": [
    {
     "name": "stdout",
     "output_type": "stream",
     "text": [
      "torch.Size([2, 1, 3, 3, 1])\n",
      "tensor([[[[[ 1.5063],\n",
      "           [-0.9827],\n",
      "           [ 0.7493]],\n",
      "\n",
      "          [[-0.2031],\n",
      "           [ 1.0390],\n",
      "           [ 1.3257]],\n",
      "\n",
      "          [[ 0.8072],\n",
      "           [ 0.2391],\n",
      "           [-0.2504]]]],\n",
      "\n",
      "\n",
      "\n",
      "        [[[[ 0.8521],\n",
      "           [-0.4851],\n",
      "           [ 1.2427]],\n",
      "\n",
      "          [[-0.3762],\n",
      "           [ 0.8644],\n",
      "           [ 0.8439]],\n",
      "\n",
      "          [[-1.2952],\n",
      "           [ 0.3016],\n",
      "           [ 0.1870]]]]])\n",
      "tensor([[[ 1.5063, -0.9827,  0.7493],\n",
      "         [-0.2031,  1.0390,  1.3257],\n",
      "         [ 0.8072,  0.2391, -0.2504]],\n",
      "\n",
      "        [[ 0.8521, -0.4851,  1.2427],\n",
      "         [-0.3762,  0.8644,  0.8439],\n",
      "         [-1.2952,  0.3016,  0.1870]]])\n"
     ]
    }
   ],
   "source": [
    "x=torch.randn(2,1,3,3,1)\n",
    "print(x.shape)\n",
    "print(x)\n",
    "x=x.squeeze()\n",
    "print(x)"
   ]
  },
  {
   "cell_type": "code",
   "execution_count": 36,
   "id": "62465829-bf49-48d1-a42d-71b0de4e3f86",
   "metadata": {},
   "outputs": [
    {
     "name": "stdout",
     "output_type": "stream",
     "text": [
      "torch.Size([2, 3, 3])\n"
     ]
    }
   ],
   "source": [
    "print(x.shape)"
   ]
  },
  {
   "cell_type": "code",
   "execution_count": null,
   "id": "6b1d5e93-8a26-4e30-a2d7-87af92606968",
   "metadata": {},
   "outputs": [],
   "source": []
  }
 ],
 "metadata": {
  "kernelspec": {
   "display_name": "Python 3 (ipykernel)",
   "language": "python",
   "name": "python3"
  },
  "language_info": {
   "codemirror_mode": {
    "name": "ipython",
    "version": 3
   },
   "file_extension": ".py",
   "mimetype": "text/x-python",
   "name": "python",
   "nbconvert_exporter": "python",
   "pygments_lexer": "ipython3",
   "version": "3.12.7"
  }
 },
 "nbformat": 4,
 "nbformat_minor": 5
}
